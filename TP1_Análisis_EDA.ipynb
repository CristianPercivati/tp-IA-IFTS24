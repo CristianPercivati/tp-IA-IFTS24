{
  "nbformat": 4,
  "nbformat_minor": 0,
  "metadata": {
    "colab": {
      "provenance": []
    },
    "kernelspec": {
      "name": "python3",
      "display_name": "Python 3"
    },
    "language_info": {
      "name": "python"
    }
  },
  "cells": [
    {
      "cell_type": "code",
      "source": [
        "from google.colab import drive\n",
        "drive.mount('/content/drive')"
      ],
      "metadata": {
        "colab": {
          "base_uri": "https://localhost:8080/"
        },
        "id": "XWRcUiGt45oG",
        "outputId": "f47f41a3-479d-4ff7-e139-5726f13abfe5"
      },
      "execution_count": null,
      "outputs": [
        {
          "output_type": "stream",
          "name": "stdout",
          "text": [
            "Drive already mounted at /content/drive; to attempt to forcibly remount, call drive.mount(\"/content/drive\", force_remount=True).\n"
          ]
        }
      ]
    },
    {
      "cell_type": "code",
      "execution_count": null,
      "metadata": {
        "id": "DC7TazQB4MUt"
      },
      "outputs": [],
      "source": [
        "# carga de librerías y dataset\n",
        "\n",
        "import numpy as np\n",
        "import pandas as pd\n",
        "import matplotlib.pyplot as plt\n",
        "import seaborn as sns\n",
        "\n",
        "df = pd.read_csv('/content/drive/MyDrive/TP - IA/snic-provincias.csv')\n",
        "\n",
        "#Las preguntas para el análisis más o menos son:\n",
        "\n",
        "#¿Qué cantidad de registros hay? ¿Qué tipos de datos?\n",
        "#¿Qué cantidad de valores nulos hay?\n",
        "#¿Hay columnas descartables o prescindibles?\n",
        "#¿Cuál es la correlación entre las columnas?\n",
        "#¿Qué datos son discretos y cuáles contínuos?\n",
        "#¿Hay variables categóricas mal escritas?\n",
        "#¿Hay outliers?\n"
      ]
    },
    {
      "cell_type": "code",
      "source": [
        "#De esta línea deducimos que son 8880 registros, de 7 columnas\n",
        "\n",
        "df.shape"
      ],
      "metadata": {
        "id": "KRuSUBnOdhYR",
        "colab": {
          "base_uri": "https://localhost:8080/"
        },
        "outputId": "5bd65c5b-a18c-4579-917b-121e12513399"
      },
      "execution_count": null,
      "outputs": [
        {
          "output_type": "execute_result",
          "data": {
            "text/plain": [
              "(8880, 7)"
            ]
          },
          "metadata": {},
          "execution_count": 29
        }
      ]
    },
    {
      "cell_type": "code",
      "source": [
        "#Y de esta podemos observar los tipos de datos de esas 7 columnas. Podemos observar 4 numéricos y 3 categóricos. Podemos observar que delito_snic_id y\n",
        "#delito_snic_nombre hacen referencia a la misma columna. Al igual que provincia_id y provincia_nombre\n",
        "\n",
        "df.dtypes"
      ],
      "metadata": {
        "id": "9PKxGjpYFBWF",
        "colab": {
          "base_uri": "https://localhost:8080/"
        },
        "outputId": "844ef1ee-43c9-4830-c22a-afd1592f26e2"
      },
      "execution_count": null,
      "outputs": [
        {
          "output_type": "execute_result",
          "data": {
            "text/plain": [
              "anio                           int64\n",
              "provincia_id                   int64\n",
              "provincia_nombre              object\n",
              "codigo_delito_snic_id         object\n",
              "codigo_delito_snic_nombre     object\n",
              "cantidad_hechos                int64\n",
              "cantidad_victimas            float64\n",
              "dtype: object"
            ]
          },
          "metadata": {},
          "execution_count": 30
        }
      ]
    },
    {
      "cell_type": "code",
      "source": [
        "#Analizamos el head y el tail del dataset. Con la información recavada hasta el momento, nos damos cuenta de que podemos rectificar \n",
        "#el tipo de dato de algunas columnas. Por ejemplo, no tiene sentido que cantidad_victimas sea float, o que codigo_delito_snic_id sea \n",
        "#del tipo categórico cuando solo alberga un número.\n",
        "\n",
        "df.head().T"
      ],
      "metadata": {
        "id": "n6Xr3_WwFQ_w"
      },
      "execution_count": null,
      "outputs": []
    },
    {
      "cell_type": "code",
      "source": [
        "df.tail().T"
      ],
      "metadata": {
        "id": "_7e6cMIAVJH7"
      },
      "execution_count": null,
      "outputs": []
    },
    {
      "cell_type": "code",
      "source": [
        "#Buscamos valores nulos. Observamos que la mayoría de las columnas no contienen valores nulos, excepto cantidad_víctimas.\n",
        "\n",
        "df.info()"
      ],
      "metadata": {
        "id": "jn-MCrAwFhtD",
        "colab": {
          "base_uri": "https://localhost:8080/"
        },
        "outputId": "b2f1afcc-9a76-4f62-efe8-eae1fd9f7087"
      },
      "execution_count": null,
      "outputs": [
        {
          "output_type": "stream",
          "name": "stdout",
          "text": [
            "<class 'pandas.core.frame.DataFrame'>\n",
            "RangeIndex: 8880 entries, 0 to 8879\n",
            "Data columns (total 7 columns):\n",
            " #   Column                     Non-Null Count  Dtype  \n",
            "---  ------                     --------------  -----  \n",
            " 0   anio                       8880 non-null   int64  \n",
            " 1   provincia_id               8880 non-null   int64  \n",
            " 2   provincia_nombre           8880 non-null   object \n",
            " 3   codigo_delito_snic_id      8880 non-null   object \n",
            " 4   codigo_delito_snic_nombre  8880 non-null   object \n",
            " 5   cantidad_hechos            8880 non-null   int64  \n",
            " 6   cantidad_victimas          2592 non-null   float64\n",
            "dtypes: float64(1), int64(3), object(3)\n",
            "memory usage: 485.8+ KB\n"
          ]
        }
      ]
    },
    {
      "cell_type": "code",
      "source": [
        "#Hacemos un análisis estadístico general del dataset, de las variables numéricas\n",
        "#df.describe(include=[np.number])\n",
        "\n",
        "#Y de las variables categóricas:\n",
        "df.describe(include='all').T"
      ],
      "metadata": {
        "id": "a8Q-aWPYGHue"
      },
      "execution_count": null,
      "outputs": []
    },
    {
      "cell_type": "code",
      "source": [
        "#Graficamos la cantidad de hechos delictivos totales por año. Para eso agrupamos por año, y de esta agrupación sumamos entre sí la cantidad\n",
        "#de cada uno de los distintos tipos de hechos delictivos de cada año.\n",
        "\n",
        "cantPorAño = df.groupby('anio')['cantidad_hechos'].sum()\n",
        "sns.histplot(data=cantPorAño, x=cantPorAño.index, weights=cantPorAño.values, bins=8)\n",
        "plt.xlabel('Año')\n",
        "plt.ylabel('Cantidad de hechos')"
      ],
      "metadata": {
        "id": "s2PrQzIKGR6M"
      },
      "execution_count": null,
      "outputs": []
    },
    {
      "cell_type": "code",
      "source": [
        "#No encontramos forma de realizar un análisis de alguna distribución de las variables categóricas (por ejemplo, cantidad de veces que aparece cada\n",
        "#tipo de hecho delictivo) porque las variables categóricas del dataset apuntan a una suma de hechos delictivos previamente establecida. El gráfico\n",
        "#siguiente no representa la frecuencia real de cada tipo de delito, sino su aparición en el dataset.\n",
        "\n",
        "sns.countplot(data=df,x='codigo_delito_snic_nombre')"
      ],
      "metadata": {
        "id": "v0iM_p-JIVaH"
      },
      "execution_count": null,
      "outputs": []
    },
    {
      "cell_type": "code",
      "source": [
        "#Hacemos un gráfico de dispersión por puntos, de la cantidad de totales de hechos distribuidos por provincias. Podemos observar que en Buenos Aires\n",
        "#hay un valor excesivamente diferente a los demás, que podría ser considerado un outlier.\n",
        "\n",
        "cantPorProv = df.groupby('provincia_nombre')['cantidad_hechos'].sum()\n",
        "sns.scatterplot(x=cantPorProv.index, y=cantPorProv.values, data=cantPorProv)\n",
        "#Pasar a barplot\n",
        "plt.xticks(rotation=90)\n",
        "plt.show()\n",
        "\n",
        " #Tasa multiplicada x 1000 / pobl_total de prov."
      ],
      "metadata": {
        "id": "JotyjBdCJMBb"
      },
      "execution_count": null,
      "outputs": []
    },
    {
      "cell_type": "code",
      "source": [
        "#Hacemos un análisis de correlación entre las columnas numéricas. Como podemos observar rápidamente en el mapa de calor, la correlación entre todas las \n",
        "#columnas es bastante baja, a excepción de cantidad víctimas y cantidad hechos, que tienen una correlación muy alta, cercana a 1.\n",
        "\n",
        "#Podemos deducir que al tener una correlación demasiado baja, pero negativa, el aumentar el anio la cantidad de hechos debería disminuir muy gradualmente.\n",
        "\n",
        "#print(df.corr())\n",
        "plt.figure(figsize=(15, 6))\n",
        "corr = df.corr()\n",
        "sns.heatmap(corr, annot=True, fmt='.0%', cmap='coolwarm')\n",
        "plt.show()\n",
        "#sns.heatmap(df.corr())"
      ],
      "metadata": {
        "id": "kqKvyBo_JxOT"
      },
      "execution_count": null,
      "outputs": []
    },
    {
      "cell_type": "code",
      "source": [
        "#Mostramos la cantidad de hechos según cada categoría. Habría que buscar la mejor forma de graficar esto con mathplotlib.\n",
        "\n",
        "cantPorTipoDelito = df.groupby('codigo_delito_snic_nombre')['cantidad_hechos'].sum()\n",
        "print(cantPorTipoDelito)\n",
        "\n",
        "#Gráfica de burbujas\n"
      ],
      "metadata": {
        "id": "2oqKXePYL9eF"
      },
      "execution_count": null,
      "outputs": []
    },
    {
      "cell_type": "code",
      "source": [
        "#Graficamos las ocurrencias de cada variable categórica. Acá no importa el conteo, sino ver que no haya errores de escritura en las variables\n",
        "#categóricas.\n",
        "\n",
        "#Hago una lista de las columnas categóricas\n",
        "cols_cat = ['provincia_nombre','codigo_delito_snic_nombre']\n",
        "\n",
        "#Y recorro con un for. Innecesario por 2 columnas, pero nos puede servir para otro dataset.\n",
        "for col in cols_cat:\n",
        "#Determino el tamaño del countplot\n",
        "  plt.figure(figsize=(8,12))\n",
        "  col_graf = sns.countplot(data=df, y=col)\n",
        "  plt.show()\n",
        "\n",
        "  #Pasar a minúsculas, mayúsculas, y quitar acentos.\n"
      ],
      "metadata": {
        "id": "cZ3uGCAdk5fH"
      },
      "execution_count": null,
      "outputs": []
    }
  ]
}